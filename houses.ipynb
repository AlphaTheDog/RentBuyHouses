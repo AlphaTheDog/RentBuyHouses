{
 "cells": [
  {
   "cell_type": "markdown",
   "id": "9312183f-d33c-4632-a951-e91d80c4fe79",
   "metadata": {},
   "source": [
    "# importing packages"
   ]
  },
  {
   "cell_type": "code",
   "execution_count": 1,
   "id": "a9d7f7b1-0489-4362-8f6d-2311d322d411",
   "metadata": {},
   "outputs": [],
   "source": [
    "from selenium import webdriver\n",
    "from selenium.webdriver.chrome.options import Options\n",
    "from selenium.webdriver.common.by import By\n",
    "from bs4 import BeautifulSoup\n",
    "import csv\n",
    "import pandas as pd\n",
    "import numpy as np\n",
    "from urllib.parse import urljoin"
   ]
  },
  {
   "cell_type": "markdown",
   "id": "0c159cf6-d002-42ab-a5bb-5c4f861318d7",
   "metadata": {},
   "source": [
    "##getting our webpage"
   ]
  },
  {
   "cell_type": "code",
   "execution_count": 2,
   "id": "9cbfa3da-d556-498e-9e04-a3d083f8b12d",
   "metadata": {},
   "outputs": [],
   "source": [
    "url=\"https://www.buyrentkenya.com/houses-for-rent\""
   ]
  },
  {
   "cell_type": "code",
   "execution_count": 3,
   "id": "c8264826-5942-4401-974f-7f271e01fef0",
   "metadata": {},
   "outputs": [],
   "source": [
    "options=Options()\n",
    "options.add_argument(\"--load-extension=/home/marikothee/Desktop/Source/webScraping\")\n",
    "options.add_argument(\"--start-maximized\")"
   ]
  },
  {
   "cell_type": "code",
   "execution_count": 4,
   "id": "1d35fd90-160c-472c-90d8-db6e8fa67b13",
   "metadata": {},
   "outputs": [],
   "source": [
    "driver=webdriver.Chrome(options=options)\n",
    "driver.get(url)"
   ]
  },
  {
   "cell_type": "markdown",
   "id": "605114c0-a59d-47b5-b278-500ec2bce5a2",
   "metadata": {},
   "source": [
    "Accepting cookies"
   ]
  },
  {
   "cell_type": "code",
   "execution_count": 5,
   "id": "abeada4b-7838-4b2d-ad25-404ccd872b1c",
   "metadata": {},
   "outputs": [],
   "source": [
    "cookies=driver.find_element(By.ID,\"onetrust-accept-btn-handler\").click()"
   ]
  },
  {
   "cell_type": "code",
   "execution_count": 30,
   "id": "6afceab2-758e-405b-b515-ae796a8639ca",
   "metadata": {},
   "outputs": [
    {
     "data": {
      "text/plain": [
       "111"
      ]
     },
     "execution_count": 30,
     "metadata": {},
     "output_type": "execute_result"
    }
   ],
   "source": [
    "pages=driver.find_element(By.CLASS_NAME,\"pagination-page-nav\").find_elements(By.TAG_NAME,\"li\")\n",
    "total=int(pages[-1].find_element(By.TAG_NAME,\"a\").text)\n",
    "total"
   ]
  },
  {
   "cell_type": "code",
   "execution_count": 31,
   "id": "40628080-4375-47a5-a9d7-ccdf6c06fb9d",
   "metadata": {},
   "outputs": [],
   "source": [
    "driver.quit()"
   ]
  },
  {
   "cell_type": "code",
   "execution_count": 27,
   "id": "26682cea-c06e-4094-9c88-807893253614",
   "metadata": {},
   "outputs": [
    {
     "data": {
      "text/plain": [
       "5"
      ]
     },
     "execution_count": 27,
     "metadata": {},
     "output_type": "execute_result"
    }
   ],
   "source": [
    "pages=page.find_elements(By.TAG_NAME,\"li\")\n",
    "len(pages)"
   ]
  },
  {
   "cell_type": "code",
   "execution_count": 25,
   "id": "ab8de96c-b866-4990-bdb0-d3c65655dcc2",
   "metadata": {},
   "outputs": [],
   "source": [
    "pages[-1].find_element(By.TAG_NAME,\"a\").click()"
   ]
  },
  {
   "cell_type": "code",
   "execution_count": 29,
   "id": "948910f3-85e3-4483-a90e-7e5d0b488258",
   "metadata": {},
   "outputs": [
    {
     "data": {
      "text/plain": [
       "111"
      ]
     },
     "execution_count": 29,
     "metadata": {},
     "output_type": "execute_result"
    }
   ],
   "source": [
    "pg=pages[-1].find_element(By.TAG_NAME,\"a\").text\n",
    "total=int(pg)\n",
    "total"
   ]
  },
  {
   "cell_type": "code",
   "execution_count": null,
   "id": "50f67b0a-bd67-4c72-890d-1b0a5d416a97",
   "metadata": {},
   "outputs": [],
   "source": []
  },
  {
   "cell_type": "code",
   "execution_count": null,
   "id": "4895cbc4-c5d0-4270-8635-76ad38a4bcff",
   "metadata": {},
   "outputs": [],
   "source": []
  },
  {
   "cell_type": "code",
   "execution_count": 6,
   "id": "d097c741-8f0f-4365-b110-d73369d5b229",
   "metadata": {},
   "outputs": [],
   "source": [
    "driver.execute_script(\"window.scrollTo(0,document.body.scrollHeight)\")"
   ]
  },
  {
   "cell_type": "markdown",
   "id": "9ca08f34-2fda-49f9-9e51-9542179bdb17",
   "metadata": {},
   "source": [
    "Creating soup object"
   ]
  },
  {
   "cell_type": "code",
   "execution_count": 160,
   "id": "0cbd9824-fdda-496c-be10-a3696c4e3450",
   "metadata": {},
   "outputs": [],
   "source": [
    "soup=BeautifulSoup(driver.page_source)"
   ]
  },
  {
   "cell_type": "code",
   "execution_count": 161,
   "id": "5ed32612-238f-4c06-8546-e1cfc1c78ddc",
   "metadata": {},
   "outputs": [
    {
     "data": {
      "text/plain": [
       "25"
      ]
     },
     "execution_count": 161,
     "metadata": {},
     "output_type": "execute_result"
    }
   ],
   "source": [
    "items=soup.find_all('div','listing-card')\n",
    "len(items)"
   ]
  },
  {
   "cell_type": "markdown",
   "id": "de5c7620-5d00-4b8a-b93f-d83bd6d18d08",
   "metadata": {},
   "source": [
    "looping through each house and extracting relevant data"
   ]
  },
  {
   "cell_type": "code",
   "execution_count": 162,
   "id": "cea5f9b6-c319-4922-9b3f-588cf03a2d80",
   "metadata": {},
   "outputs": [],
   "source": [
    "data=list()\n",
    "for  item in items:\n",
    "    details=item.find('div','flex flex-row').find(\n",
    "    {\n",
    "        'div':['flex flex-col gap-y-3 w-full md:w-4/5','flex flex-col gap-y-3 w-full']\n",
    "    })\n",
    "    links=item.find('div','md:w-3/5 relative flex flex-col justify-between px-3 py-4 md:px-5').find('a','absolute left-0 top-0 z-10 h-full w-full')\n",
    "    link=links.get_attribute_list('href')\n",
    "    link=''.join(link)\n",
    "    house_url=urljoin(url,link)\n",
    "    title=details.find('h2','font-semibold md:hidden').get_text(strip=True)\n",
    "    desc=details.find('h3','capitalize flex').find('span','relative top-[2px] hidden text-lg font-semibold leading-6 text-black md:inline').get_text(strip=True)\n",
    "    location=details.find('div','flex flex-wrap gap-x-2 gap-y-1').div.p.get_text(strip=True)\n",
    "    price=details.find('div','flex items-center justify-center text-xl font-bold leading-7 text-grey-900').get_text(strip=True)\n",
    "    try:\n",
    "        link_agency=item.find('div','flex items-center justify-between space-x-1 pt-2 md:h-[48px] md:space-x-0').find('div','block md:hidden').a\n",
    "        agency=link_agency.get_attribute_list('agency-slug')\n",
    "        agency=''.join(agency)\n",
    "    except:\n",
    "        agency=np.nan\n",
    "\n",
    "    wrapper=item.find('div','flex w-full flex-col gap-y-3').find('div','swiper-wrapper space-x-2')\n",
    "    try:\n",
    "        bedrooms=wrapper.find('div','swiper-slide flex h-6 !w-auto items-center rounded-full bg-highlight px-2 py-1 text-sm font-normal leading-4 text-grey-550 swiper-slide-active')\n",
    "        #label=bedrooms.get_attribute_list('data-cy')\n",
    "        beds=bedrooms.span.get_text(strip=True)\n",
    "    except:\n",
    "        bed=np.nan\n",
    "    try:\n",
    "        bathrooms=wrapper.find('div','swiper-slide flex h-6 !w-auto items-center rounded-full bg-highlight px-2 py-1 text-sm font-normal leading-4 text-grey-550 swiper-slide-next')\n",
    "        baths=bathrooms.span.get_text(strip=True)\n",
    "    except:\n",
    "        baths=np.nan\n",
    "\n",
    "    data.append(\n",
    "        {\n",
    "            'title':title,\n",
    "            'location':location,\n",
    "            'price':price,\n",
    "            'bedrooms':beds,\n",
    "            'bathrooms':baths,\n",
    "            'agency':agency,\n",
    "            'link':house_url,\n",
    "            'desc':desc\n",
    "        }\n",
    "    )"
   ]
  },
  {
   "cell_type": "code",
   "execution_count": 164,
   "id": "42ba3444-b299-4a8f-a595-54526b0c4153",
   "metadata": {},
   "outputs": [
    {
     "data": {
      "text/plain": [
       "{'title': '5 Bed House with En Suite in Gigiri',\n",
       " 'location': 'Gigiri, Westlands',\n",
       " 'price': 'KSh 400,000/ month',\n",
       " 'bedrooms': '5 Bedrooms',\n",
       " 'bathrooms': '4 Bathrooms',\n",
       " 'agency': 'potaria-properties',\n",
       " 'link': 'https://www.buyrentkenya.com/listings/5-bedroom-house-for-rent-gigiri-3829920',\n",
       " 'desc': '5 Bed House with En Suite in Gigiri'}"
      ]
     },
     "execution_count": 164,
     "metadata": {},
     "output_type": "execute_result"
    }
   ],
   "source": [
    "data[0]"
   ]
  },
  {
   "cell_type": "markdown",
   "id": "8b7da7a7-0672-4efb-8aca-c7dc7c24ef65",
   "metadata": {},
   "source": [
    "Writing the data into a csv format"
   ]
  },
  {
   "cell_type": "code",
   "execution_count": 165,
   "id": "93435bcf-5035-42b4-8860-fec2d619829d",
   "metadata": {},
   "outputs": [],
   "source": [
    "fields=['title','location','price','bedrooms','bathrooms','agency','link','desc']\n",
    "with open('houses.csv','w',newline='')as obj:\n",
    "    writer=csv.DictWriter(obj,fieldnames=fields)\n",
    "    writer.writeheader()\n",
    "    writer.writerows(data)"
   ]
  }
 ],
 "metadata": {
  "kernelspec": {
   "display_name": "Python 3 (ipykernel)",
   "language": "python",
   "name": "python3"
  },
  "language_info": {
   "codemirror_mode": {
    "name": "ipython",
    "version": 3
   },
   "file_extension": ".py",
   "mimetype": "text/x-python",
   "name": "python",
   "nbconvert_exporter": "python",
   "pygments_lexer": "ipython3",
   "version": "3.13.5"
  }
 },
 "nbformat": 4,
 "nbformat_minor": 5
}
